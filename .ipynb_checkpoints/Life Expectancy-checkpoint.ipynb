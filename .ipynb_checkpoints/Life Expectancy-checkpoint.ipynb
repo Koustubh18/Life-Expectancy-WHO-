{
 "cells": [
  {
   "cell_type": "code",
   "execution_count": null,
   "metadata": {},
   "outputs": [],
   "source": [
    "import numpy as np\n",
    "import matplotlib.pyplot as plt\n",
    "import pandas as pd\n",
    "\n",
    "import seaborn as sns\n",
    "from scipy import stats\n",
    "from scipy.stats import norm, skew\n",
    "from scipy.special import boxcox1p\n",
    "\n",
    "pd.set_option('display.max_columns', None)\n",
    "pd.set_option('display.max_rows', None)\n",
    "\n",
    "from sklearn.impute import KNNImputer\n",
    "from sklearn.model_selection import train_test_split\n",
    "from sklearn.preprocessing import RobustScaler,StandardScaler\n",
    "from sklearn.metrics import mean_squared_error\n",
    "from sklearn.model_selection import KFold, cross_val_score, train_test_split,GridSearchCV\n",
    "from sklearn.pipeline import make_pipeline\n",
    "\n",
    "from sklearn.ensemble import RandomForestRegressor\n",
    "from sklearn.svm import SVR\n",
    "from sklearn.linear_model import LinearRegression\n",
    "from mlxtend.regressor import StackingCVRegressor\n",
    "\n",
    "import warnings\n",
    "def ignore_warn(*args, **kwargs):\n",
    "    pass\n",
    "warnings.warn = ignore_warn"
   ]
  },
  {
   "cell_type": "code",
   "execution_count": null,
   "metadata": {},
   "outputs": [],
   "source": [
    "df = pd.read_csv('Life Expectancy Data.csv')"
   ]
  },
  {
   "cell_type": "code",
   "execution_count": null,
   "metadata": {},
   "outputs": [],
   "source": [
    "df.corr()"
   ]
  },
  {
   "cell_type": "code",
   "execution_count": null,
   "metadata": {},
   "outputs": [],
   "source": [
    "df_label_nan = df[df['Life expectancy '].isnull() == True]\n",
    "df.drop(df[df['Life expectancy '].isnull() == True].index,inplace = True)\n",
    "df.drop('Population',axis = 1,inplace=True)\n",
    "df.reset_index(drop = True,inplace = True)"
   ]
  },
  {
   "cell_type": "code",
   "execution_count": null,
   "metadata": {},
   "outputs": [],
   "source": [
    "df.info()"
   ]
  },
  {
   "cell_type": "markdown",
   "metadata": {},
   "source": [
    "Fill NaN Values"
   ]
  },
  {
   "cell_type": "code",
   "execution_count": null,
   "metadata": {},
   "outputs": [],
   "source": [
    "df['Alcohol'].fillna(df['Alcohol'].median(),inplace = True)\n",
    "df[' BMI '].fillna(df[' BMI '].mean(),inplace = True)\n",
    "df['Polio'].fillna(df['Polio'].mean(),inplace = True)\n",
    "df['Diphtheria '].fillna(df['Diphtheria '].mean(),inplace = True)\n",
    "df[' thinness  1-19 years'].fillna(df[' thinness  1-19 years'].mean(),inplace = True)\n",
    "df[' thinness 5-9 years'].fillna(df[' thinness 5-9 years'].mean(),inplace = True)\n",
    "df['Total expenditure'].fillna(df['Total expenditure'].mean(),inplace = True)"
   ]
  },
  {
   "cell_type": "code",
   "execution_count": null,
   "metadata": {},
   "outputs": [],
   "source": [
    "#Income Schooling\n",
    "df_ = df[['Income composition of resources','Schooling']]\n",
    "\n",
    "i = KNNImputer(n_neighbors=36)\n",
    "df_i = pd.DataFrame(i.fit_transform(df_))\n",
    "\n",
    "df['Income composition of resources'] = df_i.iloc[:,0]\n",
    "df['Schooling'] = df_i.iloc[:,1]\n",
    "\n",
    "#GDP\n",
    "df_ = df[['GDP','percentage expenditure']]\n",
    "\n",
    "i = KNNImputer(n_neighbors=36)\n",
    "df_i = pd.DataFrame(i.fit_transform(df_))\n",
    "\n",
    "df['GDP'] = df_i.iloc[:,0]\n",
    "\n",
    "#Hepatitis B\n",
    "df_ = df[['Hepatitis B','Diphtheria ']]\n",
    "\n",
    "i = KNNImputer(n_neighbors=36)\n",
    "df_i = pd.DataFrame(i.fit_transform(df_))\n",
    "\n",
    "df['Hepatitis B'] = df_i.iloc[:,0]"
   ]
  },
  {
   "cell_type": "code",
   "execution_count": null,
   "metadata": {
    "scrolled": true
   },
   "outputs": [],
   "source": [
    "df.isnull().sum()"
   ]
  },
  {
   "cell_type": "markdown",
   "metadata": {},
   "source": [
    "Dummy Variables"
   ]
  },
  {
   "cell_type": "code",
   "execution_count": null,
   "metadata": {},
   "outputs": [],
   "source": [
    "df['Year'] = df['Year'].apply(str)\n",
    "cat = ['Country','Year','Status']\n",
    "\n",
    "for f in cat:\n",
    "    df_ = pd.get_dummies(df[f],prefix=f,drop_first=True)\n",
    "    df.drop(f,axis = 1,inplace = True)\n",
    "    df = pd.concat([df,df_],axis = 1)"
   ]
  },
  {
   "cell_type": "code",
   "execution_count": null,
   "metadata": {},
   "outputs": [],
   "source": [
    "df.head()"
   ]
  },
  {
   "cell_type": "code",
   "execution_count": null,
   "metadata": {},
   "outputs": [],
   "source": [
    "df.info()"
   ]
  },
  {
   "cell_type": "markdown",
   "metadata": {},
   "source": [
    "Remove Outliers"
   ]
  },
  {
   "cell_type": "code",
   "execution_count": null,
   "metadata": {},
   "outputs": [],
   "source": [
    "corrmat = df.corr()\n",
    "top_corr_features = corrmat.index[abs(corrmat['Life expectancy '])>0.5]\n",
    "plt.figure(figsize=(10,10))\n",
    "g = sns.heatmap(df[top_corr_features].corr(),annot=True,cmap=\"RdYlGn\")"
   ]
  },
  {
   "cell_type": "code",
   "execution_count": null,
   "metadata": {},
   "outputs": [],
   "source": [
    "#Schooling\n",
    "plt.scatter(df['Schooling'],df['Life expectancy '])\n",
    "df.drop(df[df['Schooling']<1].index,inplace = True)\n",
    "plt.scatter(df['Schooling'],df['Life expectancy '])"
   ]
  },
  {
   "cell_type": "markdown",
   "metadata": {},
   "source": [
    "Normalize"
   ]
  },
  {
   "cell_type": "code",
   "execution_count": null,
   "metadata": {},
   "outputs": [],
   "source": [
    "continuous_features = [feature for feature in df.columns if len(df[feature].unique())>5 and df[feature].dtype != 'object' and 'Year' not in feature and 'Yr' not in feature]\n",
    "continuous_features,len(continuous_features)"
   ]
  },
  {
   "cell_type": "code",
   "execution_count": null,
   "metadata": {},
   "outputs": [],
   "source": [
    "sk = df[continuous_features].apply(lambda x:skew(x)).sort_values(ascending = False)\n",
    "sk = pd.DataFrame(sk)\n",
    "sk"
   ]
  },
  {
   "cell_type": "code",
   "execution_count": null,
   "metadata": {},
   "outputs": [],
   "source": [
    "ch = [0,0.03,0.05,0.08,0.1,0.13,0.15]\n",
    "df__ = pd.DataFrame()\n",
    "for choice in ch:\n",
    "    df_ = pd.DataFrame(skew(boxcox1p(df[continuous_features],choice)),columns=[choice],index = continuous_features)\n",
    "    df__ = pd.concat([df__,df_],axis = 1)\n",
    "    \n",
    "df__ = pd.concat([pd.DataFrame(skew(df[continuous_features]),columns = ['Org'],index = continuous_features),df__],axis = 1)\n",
    "df__"
   ]
  },
  {
   "cell_type": "code",
   "execution_count": null,
   "metadata": {},
   "outputs": [],
   "source": [
    "skew_result = {}\n",
    "for i in df__.index:\n",
    "    min_ = 'Org'\n",
    "    for j in df__.columns:\n",
    "        if df__.loc[i,j]>=0 and df__.loc[i,j]<df__.loc[i,min_]:\n",
    "            min_ = j\n",
    "            \n",
    "    skew_result[i] = min_\n",
    "    \n",
    "\n",
    "print(skew_result)\n",
    "skew_result = {k:v for k,v in skew_result.items() if v != 'Org'}"
   ]
  },
  {
   "cell_type": "code",
   "execution_count": null,
   "metadata": {},
   "outputs": [],
   "source": [
    "#boxcox1p for other continuous values \n",
    "for k,v in skew_result.items():\n",
    "    df[k] = boxcox1p(df[k],v)"
   ]
  },
  {
   "cell_type": "markdown",
   "metadata": {},
   "source": [
    "Multicollinearity"
   ]
  },
  {
   "cell_type": "code",
   "execution_count": null,
   "metadata": {},
   "outputs": [],
   "source": [
    "corrmat = df.corr()\n",
    "top_corr_features = corrmat.index[abs(corrmat['Life expectancy '])>0.4]\n",
    "plt.figure(figsize=(10,10))\n",
    "g = sns.heatmap(df[top_corr_features].corr(),annot=True,cmap=\"RdYlGn\")"
   ]
  },
  {
   "cell_type": "code",
   "execution_count": null,
   "metadata": {},
   "outputs": [],
   "source": [
    "df.drop('infant deaths',axis = 1,inplace = True)"
   ]
  },
  {
   "cell_type": "code",
   "execution_count": null,
   "metadata": {},
   "outputs": [],
   "source": [
    "x = df.drop('Life expectancy ',axis = 1)\n",
    "y = df['Life expectancy ']\n",
    "x_train,x_test,y_train,y_test = train_test_split(x,y,test_size = 0.2)"
   ]
  },
  {
   "cell_type": "code",
   "execution_count": null,
   "metadata": {},
   "outputs": [],
   "source": [
    "#Validation\n",
    "kf = KFold(5, shuffle=True, random_state=42)\n",
    "\n",
    "def rmse(y, y_pred):\n",
    "    return np.sqrt(mean_squared_error(y, y_pred))\n",
    "\n",
    "def rmsle_cv(model):\n",
    "    rmse= np.sqrt(-cross_val_score(model, x.values, y.values, scoring=\"neg_mean_squared_error\", cv = kf))\n",
    "    return(rmse)"
   ]
  },
  {
   "cell_type": "code",
   "execution_count": null,
   "metadata": {},
   "outputs": [],
   "source": [
    "lr = make_pipeline(RobustScaler(),LinearRegression(fit_intercept=True,normalize=True))\n",
    "svr = make_pipeline(RobustScaler(),SVR())\n",
    "rf = RandomForestRegressor(n_estimators=200)\n",
    "stk = StackingCVRegressor( regressors=(lr,svr,rf),meta_regressor=rf,use_features_in_secondary = True)"
   ]
  },
  {
   "cell_type": "code",
   "execution_count": null,
   "metadata": {},
   "outputs": [],
   "source": []
  },
  {
   "cell_type": "code",
   "execution_count": null,
   "metadata": {},
   "outputs": [],
   "source": []
  },
  {
   "cell_type": "code",
   "execution_count": null,
   "metadata": {},
   "outputs": [],
   "source": []
  },
  {
   "cell_type": "code",
   "execution_count": null,
   "metadata": {},
   "outputs": [],
   "source": []
  }
 ],
 "metadata": {
  "kernelspec": {
   "display_name": "Python 3",
   "language": "python",
   "name": "python3"
  },
  "language_info": {
   "codemirror_mode": {
    "name": "ipython",
    "version": 3
   },
   "file_extension": ".py",
   "mimetype": "text/x-python",
   "name": "python",
   "nbconvert_exporter": "python",
   "pygments_lexer": "ipython3",
   "version": "3.6.9"
  }
 },
 "nbformat": 4,
 "nbformat_minor": 2
}
